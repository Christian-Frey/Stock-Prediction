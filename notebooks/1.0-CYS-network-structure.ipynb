{
 "cells": [
  {
   "cell_type": "code",
   "execution_count": 1,
   "metadata": {},
   "outputs": [],
   "source": [
    "import os, sys\n",
    "from dotenv import find_dotenv, load_dotenv\n",
    "import pandas as pd\n",
    "\n",
    "%matplotlib inline\n",
    "import matplotlib.pyplot as plt\n",
    "\n",
    "load_dotenv(find_dotenv())\n",
    "path_root = os.environ.get('PATH_ROOT')\n",
    "df = pd.read_csv('{0}/data/processed/CYS-prediction-data-v1.csv'.format(path_root))\n",
    "\n",
    "# add the 'src' directory as one where we can import modules\n",
    "src_dir = os.path.join(os.getcwd(), os.pardir, 'src')\n",
    "sys.path.append(src_dir)\n",
    "from models.utils import train_tune_test_split"
   ]
  },
  {
   "cell_type": "code",
   "execution_count": 2,
   "metadata": {},
   "outputs": [
    {
     "name": "stdout",
     "output_type": "stream",
     "text": [
      "(1314, 10)\n",
      "(281, 10)\n"
     ]
    }
   ],
   "source": [
    "train, tune, test = train_tune_test_split(df, 0.7, 0.15, 0.15)\n",
    "print(train.shape)\n",
    "print(tune.shape)"
   ]
  },
  {
   "cell_type": "code",
   "execution_count": 3,
   "metadata": {},
   "outputs": [
    {
     "name": "stderr",
     "output_type": "stream",
     "text": [
      "Using TensorFlow backend.\n"
     ]
    }
   ],
   "source": [
    "from keras.layers import LSTM, Dense, Input\n",
    "from keras.models import Model\n",
    "from keras.optimizers import SGD\n",
    "sgd = SGD(0.5)\n",
    "\n",
    "in_layer = Input(shape=(None, train.shape[1]-1))\n",
    "lstm_1 = LSTM(48, return_sequences=True)(in_layer)\n",
    "lstm_2 = LSTM(48, return_sequences=True)(lstm_1)\n",
    "lstm_3 = LSTM(48)(lstm_2)\n",
    "out_layer = Dense(1)(lstm_3)\n",
    "\n",
    "model = Model(inputs=in_layer, outputs=out_layer)\n",
    "model.compile(loss='mse', optimizer=sgd, metrics=['mean_squared_error'])"
   ]
  },
  {
   "cell_type": "code",
   "execution_count": 4,
   "metadata": {},
   "outputs": [
    {
     "name": "stdout",
     "output_type": "stream",
     "text": [
      "_________________________________________________________________\n",
      "Layer (type)                 Output Shape              Param #   \n",
      "=================================================================\n",
      "input_1 (InputLayer)         (None, None, 9)           0         \n",
      "_________________________________________________________________\n",
      "lstm_1 (LSTM)                (None, None, 48)          11136     \n",
      "_________________________________________________________________\n",
      "lstm_2 (LSTM)                (None, None, 48)          18624     \n",
      "_________________________________________________________________\n",
      "lstm_3 (LSTM)                (None, 48)                18624     \n",
      "_________________________________________________________________\n",
      "dense_1 (Dense)              (None, 1)                 49        \n",
      "=================================================================\n",
      "Total params: 48,433\n",
      "Trainable params: 48,433\n",
      "Non-trainable params: 0\n",
      "_________________________________________________________________\n",
      "None\n"
     ]
    }
   ],
   "source": [
    "print(model.summary())"
   ]
  },
  {
   "cell_type": "code",
   "execution_count": null,
   "metadata": {},
   "outputs": [],
   "source": []
  }
 ],
 "metadata": {
  "kernelspec": {
   "display_name": "Python 3",
   "language": "python",
   "name": "python3"
  },
  "language_info": {
   "codemirror_mode": {
    "name": "ipython",
    "version": 3
   },
   "file_extension": ".py",
   "mimetype": "text/x-python",
   "name": "python",
   "nbconvert_exporter": "python",
   "pygments_lexer": "ipython3",
   "version": "3.5.3"
  }
 },
 "nbformat": 4,
 "nbformat_minor": 2
}
