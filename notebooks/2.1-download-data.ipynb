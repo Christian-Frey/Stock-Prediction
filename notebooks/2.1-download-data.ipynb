{
 "cells": [
  {
   "cell_type": "code",
   "execution_count": 1,
   "metadata": {},
   "outputs": [],
   "source": [
    "import os, sys\n",
    "from dotenv import find_dotenv, load_dotenv\n",
    "from fredapi import Fred\n",
    "import pandas as pd\n",
    "import pandas_datareader as pdr\n",
    "import sqlite3\n",
    "import logging\n",
    "\n",
    "# add the 'src' directory as one where we can import modules\n",
    "src_dir = os.path.join(os.getcwd(), os.pardir, 'src')\n",
    "sys.path.append(src_dir)\n",
    "from data.db_helper import DB_Helper\n",
    "\n",
    "%matplotlib inline\n",
    "import matplotlib.pyplot as plt\n",
    "\n",
    "load_dotenv(find_dotenv())\n",
    "fred_api_key = os.environ.get('FRED_API_KEY')\n",
    "fred = Fred(api_key=fred_api_key)\n",
    "\n",
    "db = DB_Helper(os.environ.get('DB_PATH'))"
   ]
  },
  {
   "cell_type": "code",
   "execution_count": 7,
   "metadata": {},
   "outputs": [],
   "source": [
    "ticker = 'AAPL'\n",
    "series_ids = ['SP500', 'DGS10', 'DGS5', 'USD3MTD156N', 'USD1WKD156N', 'FF']"
   ]
  },
  {
   "cell_type": "code",
   "execution_count": 8,
   "metadata": {},
   "outputs": [],
   "source": [
    "# adding stock series info\n",
    "if db.have_data_for_series(ticker):\n",
    "    print('have data for {0} - not downloading'.format(ticker))\n",
    "else:\n",
    "    ds = pdr.data.DataReader(ticker, 'yahoo')\n",
    "    db.add_data_series_and_data_yahoo(ds, ticker)"
   ]
  },
  {
   "cell_type": "code",
   "execution_count": 9,
   "metadata": {},
   "outputs": [
    {
     "name": "stdout",
     "output_type": "stream",
     "text": [
      "have data for SP500 - not downloading\n",
      "have data for DGS10 - not downloading\n",
      "have data for DGS5 - not downloading\n",
      "have data for USD3MTD156N - not downloading\n",
      "have data for USD1WKD156N - not downloading\n",
      "have data for FF - not downloading\n"
     ]
    }
   ],
   "source": [
    "# Adding series info\n",
    "for id in series_ids:\n",
    "    if db.have_data_for_series(id):\n",
    "        print('have data for {0} - not downloading'.format(id))\n",
    "    else:\n",
    "        ds_meta = fred.get_series_info(id)\n",
    "        db.add_data_series_fred(ds_meta)\n",
    "        \n",
    "        ds_data = fred.get_series(id)\n",
    "        db.add_data_fred(ds_data, id)"
   ]
  },
  {
   "cell_type": "code",
   "execution_count": null,
   "metadata": {},
   "outputs": [],
   "source": []
  }
 ],
 "metadata": {
  "kernelspec": {
   "display_name": "Python 3",
   "language": "python",
   "name": "python3"
  },
  "language_info": {
   "codemirror_mode": {
    "name": "ipython",
    "version": 3
   },
   "file_extension": ".py",
   "mimetype": "text/x-python",
   "name": "python",
   "nbconvert_exporter": "python",
   "pygments_lexer": "ipython3",
   "version": "3.5.3"
  }
 },
 "nbformat": 4,
 "nbformat_minor": 2
}
