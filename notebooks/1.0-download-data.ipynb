{
 "cells": [
  {
   "cell_type": "code",
   "execution_count": 2,
   "metadata": {},
   "outputs": [],
   "source": [
    "import os\n",
    "from dotenv import find_dotenv, load_dotenv\n",
    "from fredapi import Fred\n",
    "import pandas as pd\n",
    "import pandas_datareader as pdr\n",
    "\n",
    "%matplotlib inline\n",
    "import matplotlib.pyplot as plt\n",
    "\n",
    "load_dotenv(find_dotenv())\n",
    "fred_api_key = os.environ.get('FRED_API_KEY')\n",
    "fred = Fred(api_key=fred_api_key)"
   ]
  },
  {
   "cell_type": "code",
   "execution_count": 2,
   "metadata": {},
   "outputs": [],
   "source": [
    "ticker = 'CYS'\n",
    "series_ids = ['SP500', 'DGS10', 'DGS5', 'USD3MTD156N', 'USD1WKD156N', 'FF']"
   ]
  },
  {
   "cell_type": "code",
   "execution_count": 3,
   "metadata": {},
   "outputs": [
    {
     "name": "stdout",
     "output_type": "stream",
     "text": [
      "frequency                                             Weekly, Ending Wednesday\n",
      "frequency_short                                                              W\n",
      "id                                                                          FF\n",
      "last_updated                                            2017-11-24 15:41:07-06\n",
      "notes                        Averages of daily figures.  The federal funds ...\n",
      "observation_end                                                     2017-11-22\n",
      "observation_start                                                   1954-07-07\n",
      "popularity                                                                  56\n",
      "realtime_end                                                        2017-11-28\n",
      "realtime_start                                                      2017-11-28\n",
      "seasonal_adjustment                                    Not Seasonally Adjusted\n",
      "seasonal_adjustment_short                                                  NSA\n",
      "title                                             Effective Federal Funds Rate\n",
      "units                                                                  Percent\n",
      "units_short                                                                  %\n",
      "dtype: object\n"
     ]
    }
   ],
   "source": [
    "ff_info = fred.get_series_info('FF')\n",
    "print(ff_info)"
   ]
  },
  {
   "cell_type": "code",
   "execution_count": 4,
   "metadata": {},
   "outputs": [
    {
     "name": "stdout",
     "output_type": "stream",
     "text": [
      "SP500 is Daily\n",
      "DGS10 is Daily\n",
      "DGS5 is Daily\n",
      "USD3MTD156N is Daily\n",
      "USD1WKD156N is Daily\n",
      "FF is Weekly, Ending Wednesday\n"
     ]
    }
   ],
   "source": [
    "for id in series_ids:\n",
    "    info = fred.get_series_info(id)\n",
    "    print('{0} is {1}'.format(info['id'], info['frequency']))"
   ]
  },
  {
   "cell_type": "code",
   "execution_count": 5,
   "metadata": {},
   "outputs": [
    {
     "name": "stdout",
     "output_type": "stream",
     "text": [
      "2017-09-20    1.16\n",
      "2017-09-27    1.16\n",
      "2017-10-04    1.12\n",
      "2017-10-11    1.16\n",
      "2017-10-18    1.16\n",
      "2017-10-25    1.16\n",
      "2017-11-01    1.15\n",
      "2017-11-08    1.16\n",
      "2017-11-15    1.16\n",
      "2017-11-22    1.16\n",
      "dtype: float64\n"
     ]
    }
   ],
   "source": [
    "ff_tail = fred.get_series('FF')\n",
    "print(ff_tail.tail(10))"
   ]
  },
  {
   "cell_type": "code",
   "execution_count": 3,
   "metadata": {},
   "outputs": [
    {
     "name": "stdout",
     "output_type": "stream",
     "text": [
      "            Open  High   Low  Close  Adj Close   Volume\n",
      "Date                                                   \n",
      "2017-11-13  7.86  7.96  7.82   7.96       7.96  1554200\n",
      "2017-11-14  7.96  8.07  7.94   8.03       8.03   625900\n",
      "2017-11-15  8.03  8.06  7.96   7.97       7.97   625100\n",
      "2017-11-16  7.96  8.04  7.96   7.98       7.98   689300\n",
      "2017-11-17  7.98  8.06  7.97   8.05       8.05   758400\n",
      "2017-11-20  8.05  8.15  8.03   8.15       8.15   727700\n",
      "2017-11-21  8.17  8.24  8.13   8.24       8.24   984400\n",
      "2017-11-22  8.24  8.33  8.24   8.33       8.33   868100\n",
      "2017-11-24  8.30  8.32  8.24   8.25       8.25   260900\n",
      "2017-11-27  8.27  8.31  8.23   8.25       8.25   754600\n"
     ]
    }
   ],
   "source": [
    "cys = pdr.get_data_yahoo('CYS')\n",
    "print(cys.tail(10))"
   ]
  },
  {
   "cell_type": "code",
   "execution_count": 8,
   "metadata": {},
   "outputs": [
    {
     "name": "stdout",
     "output_type": "stream",
     "text": [
      "            DGS10  DGS5    FF    SP500  USD1WKD156N  USD3MTD156N  label\n",
      "2017-11-14   2.38  2.06   NaN  2578.87      1.20406      1.41899   8.03\n",
      "2017-11-15   2.33  2.04  1.16  2564.62      1.20356      1.42190   7.97\n",
      "2017-11-16   2.37  2.07   NaN  2585.64      1.20372      1.43567   7.98\n",
      "2017-11-17   2.35  2.06   NaN  2578.85      1.20267      1.44067   8.05\n",
      "2017-11-20   2.37  2.09   NaN  2582.14      1.20367      1.44594   8.15\n",
      "2017-11-21   2.36  2.11   NaN  2599.03          NaN          NaN   8.24\n",
      "2017-11-22   2.32  2.05  1.16  2597.08          NaN          NaN   8.33\n",
      "2017-11-23    NaN   NaN   NaN      NaN          NaN          NaN    NaN\n",
      "2017-11-24   2.34  2.07   NaN  2602.42          NaN          NaN   8.25\n",
      "2017-11-27    NaN   NaN   NaN  2601.42          NaN          NaN   8.25\n"
     ]
    }
   ],
   "source": [
    "df ={}\n",
    "for id in series_ids:\n",
    "    df[id] = fred.get_series(id)\n",
    "df['label'] = pdr.get_data_yahoo('CYS')['Close']\n",
    "df = pd.DataFrame(df)\n",
    "print(df.tail(10))"
   ]
  },
  {
   "cell_type": "code",
   "execution_count": 9,
   "metadata": {},
   "outputs": [
    {
     "data": {
      "text/plain": [
       "<matplotlib.axes._subplots.AxesSubplot at 0x2f6ef7cc668>"
      ]
     },
     "execution_count": 9,
     "metadata": {},
     "output_type": "execute_result"
    },
    {
     "data": {
      "image/png": "[encoded data removed]",
      "text/plain": [
       "<matplotlib.figure.Figure at 0x2f6ef7cc160>"
      ]
     },
     "metadata": {},
     "output_type": "display_data"
    }
   ],
   "source": [
    "df['DGS10'].plot()"
   ]
  },
  {
   "cell_type": "code",
   "execution_count": null,
   "metadata": {},
   "outputs": [],
   "source": []
  }
 ],
 "metadata": {
  "kernelspec": {
   "display_name": "Python 3",
   "language": "python",
   "name": "python3"
  },
  "language_info": {
   "codemirror_mode": {
    "name": "ipython",
    "version": 3
   },
   "file_extension": ".py",
   "mimetype": "text/x-python",
   "name": "python",
   "nbconvert_exporter": "python",
   "pygments_lexer": "ipython3",
   "version": "3.5.3"
  }
 },
 "nbformat": 4,
 "nbformat_minor": 2
}
