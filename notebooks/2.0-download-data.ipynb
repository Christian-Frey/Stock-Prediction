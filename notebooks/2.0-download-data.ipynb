{
 "cells": [
  {
   "cell_type": "code",
   "execution_count": 1,
   "metadata": {},
   "outputs": [],
   "source": [
    "import os\n",
    "from dotenv import find_dotenv, load_dotenv\n",
    "from fredapi import Fred\n",
    "import pandas as pd\n",
    "import pandas_datareader as pdr\n",
    "import sqlite3\n",
    "import logging\n",
    "\n",
    "%matplotlib inline\n",
    "import matplotlib.pyplot as plt\n",
    "\n",
    "load_dotenv(find_dotenv())\n",
    "fred_api_key = os.environ.get('FRED_API_KEY')\n",
    "fred = Fred(api_key=fred_api_key)"
   ]
  },
  {
   "cell_type": "code",
   "execution_count": 2,
   "metadata": {},
   "outputs": [],
   "source": [
    "ticker = 'CYS'\n",
    "series_ids = ['SP500', 'DGS10', 'DGS5', 'USD3MTD156N', 'USD1WKD156N', 'FF']"
   ]
  },
  {
   "cell_type": "code",
   "execution_count": 3,
   "metadata": {},
   "outputs": [],
   "source": [
    "conn = sqlite3.connect(os.environ.get('DB_PATH'))\n"
   ]
  },
  {
   "cell_type": "code",
   "execution_count": 4,
   "metadata": {},
   "outputs": [],
   "source": [
    "for id in series_ids:\n",
    "    df = fred.get_series_info(id).to_frame().T\n",
    "    try:\n",
    "        df.to_sql('data_series', conn, if_exists='append', index=False)\n",
    "    except sqlite3.IntegrityError as e:\n",
    "        logging.warning(e)\n",
    "        continue"
   ]
  },
  {
   "cell_type": "code",
   "execution_count": 5,
   "metadata": {
    "scrolled": false
   },
   "outputs": [
    {
     "name": "stdout",
     "output_type": "stream",
     "text": [
      "('SP500', 'S&P 500')\n",
      "('DGS10', '10-Year Treasury Constant Maturity Rate')\n",
      "('DGS5', '5-Year Treasury Constant Maturity Rate')\n",
      "('USD3MTD156N', '3-Month London Interbank Offered Rate (LIBOR), based on U.S. Dollar')\n",
      "('USD1WKD156N', '1-Week London Interbank Offered Rate (LIBOR), based on U.S. Dollar')\n",
      "('FF', 'Effective Federal Funds Rate')\n"
     ]
    }
   ],
   "source": [
    "for row in conn.execute('select id, title from data_series'):\n",
    "    print(row)"
   ]
  },
  {
   "cell_type": "code",
   "execution_count": 6,
   "metadata": {},
   "outputs": [
    {
     "name": "stdout",
     "output_type": "stream",
     "text": [
      "SP500 not found...\n",
      "DGS10 not found...\n",
      "DGS5 not found...\n",
      "USD3MTD156N not found...\n",
      "USD1WKD156N not found...\n",
      "FF not found...\n"
     ]
    }
   ],
   "source": [
    "for id in series_ids:\n",
    "    q = conn.execute(\"SELECT value FROM data where ds_id=?\", [str(id)])\n",
    "    if q.fetchone() is not None:\n",
    "        print('{0} is already in the DB!'.format(id))\n",
    "    else:\n",
    "        print('{0} not found...'.format(id))"
   ]
  },
  {
   "cell_type": "code",
   "execution_count": 7,
   "metadata": {},
   "outputs": [
    {
     "name": "stdout",
     "output_type": "stream",
     "text": [
      "              value  ds_id\n",
      "2017-12-01  2642.22  SP500\n",
      "2017-12-04  2639.44  SP500\n",
      "2017-12-05  2629.57  SP500\n",
      "2017-12-06  2629.27  SP500\n",
      "2017-12-07  2636.98  SP500\n",
      "            value  ds_id\n",
      "2017-11-30   2.42  DGS10\n",
      "2017-12-01   2.37  DGS10\n",
      "2017-12-04   2.37  DGS10\n",
      "2017-12-05   2.36  DGS10\n",
      "2017-12-06   2.33  DGS10\n",
      "            value ds_id\n",
      "2017-11-30   2.14  DGS5\n",
      "2017-12-01   2.13  DGS5\n",
      "2017-12-04   2.15  DGS5\n",
      "2017-12-05   2.15  DGS5\n",
      "2017-12-06   2.11  DGS5\n",
      "              value        ds_id\n",
      "2017-11-24  1.46763  USD3MTD156N\n",
      "2017-11-27  1.47725  USD3MTD156N\n",
      "2017-11-28  1.47882  USD3MTD156N\n",
      "2017-11-29  1.48063  USD3MTD156N\n",
      "2017-11-30  1.48738  USD3MTD156N\n",
      "              value        ds_id\n",
      "2017-11-24  1.20341  USD1WKD156N\n",
      "2017-11-27  1.20106  USD1WKD156N\n",
      "2017-11-28  1.20219  USD1WKD156N\n",
      "2017-11-29  1.20500  USD1WKD156N\n",
      "2017-11-30  1.20688  USD1WKD156N\n",
      "            value ds_id\n",
      "2017-11-08   1.16    FF\n",
      "2017-11-15   1.16    FF\n",
      "2017-11-22   1.16    FF\n",
      "2017-11-29   1.16    FF\n",
      "2017-12-06   1.15    FF\n"
     ]
    }
   ],
   "source": [
    "for id in series_ids:\n",
    "    q_test = conn.execute(\"SELECT value FROM data where ds_id=?\", [str(id)])\n",
    "    if q.fetchone() is not None:\n",
    "        print('{0} is already in the DB!'.format(id))\n",
    "    else:\n",
    "        query = conn.execute(\"SELECT observation_start FROM data_series WHERE id=?\", [str(id)])\n",
    "        data = fred.get_series(id, observation_start=query.fetchone()[0])\n",
    "        df = data.to_frame(name='value')\n",
    "        df.rename(columns={'index':'date'}, inplace=True)\n",
    "        df['ds_id'] = id\n",
    "        df.dropna(inplace=True)\n",
    "        print(df.tail())\n",
    "        df.to_sql('data', conn, if_exists='append', index=True, index_label='date')"
   ]
  },
  {
   "cell_type": "code",
   "execution_count": 8,
   "metadata": {},
   "outputs": [
    {
     "name": "stdout",
     "output_type": "stream",
     "text": [
      "            Open  High   Low  value  Adj Close  Volume ds_id\n",
      "Date                                                        \n",
      "2017-12-01  8.09  8.16  8.02   8.14       8.14  993200   CYS\n",
      "2017-12-04  8.19  8.27  8.18   8.26       8.26  795900   CYS\n",
      "2017-12-05  8.25  8.26  8.19   8.23       8.23  623300   CYS\n",
      "2017-12-06  8.23  8.27  8.20   8.22       8.22  618800   CYS\n",
      "2017-12-07  8.21  8.29  8.21   8.29       8.29  778900   CYS\n"
     ]
    }
   ],
   "source": [
    "df = pdr.data.DataReader(ticker, 'yahoo')\n",
    "# We need to add the CYS series metadata to data_series before we can add the raw data\n",
    "#conn.execute(\"\"\"INSERT INTO data_series (\n",
    "#                frequency_short,\n",
    "#                id,\n",
    "#                last_updated,\n",
    "#                observation_start,\n",
    "#                observation_end) VALUES \n",
    "#                (?, ?, ?, ?, ?)\"\"\", \n",
    "#                (df.index.freq, str(ticker), df.index[-1].to_pydatetime(), df.index[0].to_pydatetime(), df.index[-1].to_pydatetime()))\n",
    "\n",
    "\n",
    "df['ds_id'] = ticker\n",
    "df.rename(columns={'Close': 'value'}, inplace=True)\n",
    "df.dropna(inplace=True)\n",
    "print(df.tail())\n",
    "df.drop(columns=['Open', 'High', 'Low', 'Adj Close', 'Volume'], inplace=True)\n",
    "df.to_sql('data', conn, if_exists='append', index=True, index_label='date')"
   ]
  },
  {
   "cell_type": "code",
   "execution_count": 9,
   "metadata": {},
   "outputs": [
    {
     "name": "stdout",
     "output_type": "stream",
     "text": [
      "[('Daily', 'SP500'), ('Daily', 'DGS10'), ('Daily', 'DGS5'), ('Daily', 'USD3MTD156N'), ('Daily', 'USD1WKD156N'), ('Weekly, Ending Wednesday', 'FF')]\n"
     ]
    }
   ],
   "source": [
    "q = conn.execute(\"SELECT frequency, id FROM data_series\")\n",
    "print(q.fetchall())"
   ]
  },
  {
   "cell_type": "code",
   "execution_count": null,
   "metadata": {},
   "outputs": [],
   "source": []
  }
 ],
 "metadata": {
  "kernelspec": {
   "display_name": "Python 3",
   "language": "python",
   "name": "python3"
  },
  "language_info": {
   "codemirror_mode": {
    "name": "ipython",
    "version": 3
   },
   "file_extension": ".py",
   "mimetype": "text/x-python",
   "name": "python",
   "nbconvert_exporter": "python",
   "pygments_lexer": "ipython3",
   "version": "3.5.3"
  }
 },
 "nbformat": 4,
 "nbformat_minor": 2
}
