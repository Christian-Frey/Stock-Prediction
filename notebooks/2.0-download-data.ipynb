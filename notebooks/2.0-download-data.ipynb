{
 "cells": [
  {
   "cell_type": "code",
   "execution_count": 1,
   "metadata": {},
   "outputs": [],
   "source": [
    "import os\n",
    "from dotenv import find_dotenv, load_dotenv\n",
    "from fredapi import Fred\n",
    "import pandas as pd\n",
    "import pandas_datareader as pdr\n",
    "import sqlite3\n",
    "import logging\n",
    "\n",
    "%matplotlib inline\n",
    "import matplotlib.pyplot as plt\n",
    "\n",
    "load_dotenv(find_dotenv())\n",
    "fred_api_key = os.environ.get('FRED_API_KEY')\n",
    "fred = Fred(api_key=fred_api_key)"
   ]
  },
  {
   "cell_type": "code",
   "execution_count": 2,
   "metadata": {},
   "outputs": [],
   "source": [
    "ticker = 'CYS'\n",
    "series_ids = ['SP500', 'DGS10', 'DGS5', 'USD3MTD156N', 'USD1WKD156N', 'FF']"
   ]
  },
  {
   "cell_type": "code",
   "execution_count": 3,
   "metadata": {},
   "outputs": [],
   "source": [
    "conn = sqlite3.connect(os.environ.get('DB_PATH'))\n"
   ]
  },
  {
   "cell_type": "code",
   "execution_count": 4,
   "metadata": {},
   "outputs": [
    {
     "name": "stderr",
     "output_type": "stream",
     "text": [
      "WARNING:root:UNIQUE constraint failed: data_series.id\n",
      "WARNING:root:UNIQUE constraint failed: data_series.id\n",
      "WARNING:root:UNIQUE constraint failed: data_series.id\n",
      "WARNING:root:UNIQUE constraint failed: data_series.id\n",
      "WARNING:root:UNIQUE constraint failed: data_series.id\n",
      "WARNING:root:UNIQUE constraint failed: data_series.id\n"
     ]
    }
   ],
   "source": [
    "for id in series_ids:\n",
    "    df = fred.get_series_info(id).to_frame().T\n",
    "    try:\n",
    "        df.to_sql('data_series', conn, if_exists='append', index=False)\n",
    "    except sqlite3.IntegrityError as e:\n",
    "        logging.warning(e)\n",
    "        continue"
   ]
  },
  {
   "cell_type": "code",
   "execution_count": 5,
   "metadata": {
    "scrolled": false
   },
   "outputs": [
    {
     "name": "stdout",
     "output_type": "stream",
     "text": [
      "('FF', 'Effective Federal Funds Rate')\n",
      "('SP500', 'S&P 500')\n",
      "('DGS10', '10-Year Treasury Constant Maturity Rate')\n",
      "('DGS5', '5-Year Treasury Constant Maturity Rate')\n",
      "('USD3MTD156N', '3-Month London Interbank Offered Rate (LIBOR), based on U.S. Dollar')\n",
      "('USD1WKD156N', '1-Week London Interbank Offered Rate (LIBOR), based on U.S. Dollar')\n"
     ]
    }
   ],
   "source": [
    "for row in conn.execute('select id, title from data_series'):\n",
    "    print(row)"
   ]
  },
  {
   "cell_type": "code",
   "execution_count": 6,
   "metadata": {},
   "outputs": [
    {
     "name": "stdout",
     "output_type": "stream",
     "text": [
      "SP500 is already in the DB!\n",
      "DGS10 is already in the DB!\n",
      "DGS5 is already in the DB!\n",
      "USD3MTD156N is already in the DB!\n",
      "USD1WKD156N is already in the DB!\n",
      "FF is already in the DB!\n"
     ]
    }
   ],
   "source": [
    "for id in series_ids:\n",
    "    q = conn.execute(\"SELECT value FROM data where ds_id=?\", [str(id)])\n",
    "    if q.fetchone() is not None:\n",
    "        print('{0} is already in the DB!'.format(id))\n",
    "    else:\n",
    "        print('{0} not found...'.format(id))"
   ]
  },
  {
   "cell_type": "code",
   "execution_count": 10,
   "metadata": {},
   "outputs": [
    {
     "name": "stdout",
     "output_type": "stream",
     "text": [
      "SP500 is already in the DB!\n",
      "DGS10 is already in the DB!\n",
      "DGS5 is already in the DB!\n",
      "USD3MTD156N is already in the DB!\n",
      "USD1WKD156N is already in the DB!\n",
      "FF is already in the DB!\n"
     ]
    }
   ],
   "source": [
    "for id in series_ids:\n",
    "    q_test = conn.execute(\"SELECT value FROM data where ds_id=?\", [str(id)])\n",
    "    if q.fetchone() is not None:\n",
    "        print('{0} is already in the DB!'.format(id))\n",
    "    else:\n",
    "        query = conn.execute(\"SELECT observation_start FROM data_series WHERE id=?\", [str(id)])\n",
    "        data = fred.get_series(id, observation_start=query.fetchone()[0])\n",
    "        df = data.to_frame(name='value').rename(columns={'index':'date'}, inplace=True)\n",
    "        df['ds_id'] = id\n",
    "        df.dropna(inplace=True)\n",
    "        df.to_sql('data', conn, if_exists='append', index=True, index_label='date')"
   ]
  },
  {
   "cell_type": "code",
   "execution_count": 12,
   "metadata": {},
   "outputs": [
    {
     "name": "stdout",
     "output_type": "stream",
     "text": [
      "[(1, '2007-12-05 00:00:00', 1485.01, 'SP500'), (2, '2007-12-07 00:00:00', 1504.66, 'SP500'), (3, '2007-12-10 00:00:00', 1515.96, 'SP500'), (4, '2007-12-11 00:00:00', 1477.65, 'SP500'), (5, '2007-12-12 00:00:00', 1486.59, 'SP500')]\n",
      "[(2521, '1962-01-02 00:00:00', 4.06, 'DGS10'), (2522, '1962-01-03 00:00:00', 4.03, 'DGS10'), (2523, '1962-01-04 00:00:00', 3.99, 'DGS10'), (2524, '1962-01-05 00:00:00', 4.02, 'DGS10'), (2525, '1962-01-08 00:00:00', 4.03, 'DGS10')]\n",
      "[(16490, '1962-01-02 00:00:00', 3.88, 'DGS5'), (16491, '1962-01-03 00:00:00', 3.87, 'DGS5'), (16492, '1962-01-04 00:00:00', 3.86, 'DGS5'), (16493, '1962-01-05 00:00:00', 3.89, 'DGS5'), (16494, '1962-01-08 00:00:00', 3.91, 'DGS5')]\n",
      "[(30459, '1986-01-02 00:00:00', 8, 'USD3MTD156N'), (30460, '1986-01-03 00:00:00', 8.0625, 'USD3MTD156N'), (30461, '1986-01-06 00:00:00', 8.125, 'USD3MTD156N'), (30462, '1986-01-07 00:00:00', 8.125, 'USD3MTD156N'), (30463, '1986-01-08 00:00:00', 8, 'USD3MTD156N')]\n",
      "[(38526, '1997-12-01 00:00:00', 5.69531, 'USD1WKD156N'), (38527, '1997-12-02 00:00:00', 5.6875, 'USD1WKD156N'), (38528, '1997-12-03 00:00:00', 5.6875, 'USD1WKD156N'), (38529, '1997-12-04 00:00:00', 5.67578, 'USD1WKD156N'), (38530, '1997-12-05 00:00:00', 5.65234, 'USD1WKD156N')]\n",
      "[(43579, '1954-07-07 00:00:00', 1, 'FF'), (43580, '1954-07-14 00:00:00', 1.21, 'FF'), (43581, '1954-07-21 00:00:00', 0.57, 'FF'), (43582, '1954-07-28 00:00:00', 0.63, 'FF'), (43583, '1954-08-04 00:00:00', 0.27, 'FF')]\n"
     ]
    }
   ],
   "source": [
    "for id in series_ids:\n",
    "    q = conn.execute('SELECT * from data where ds_id=? LIMIT 5', [str(id)])\n",
    "    print(q.fetchall())"
   ]
  },
  {
   "cell_type": "code",
   "execution_count": null,
   "metadata": {},
   "outputs": [],
   "source": []
  }
 ],
 "metadata": {
  "kernelspec": {
   "display_name": "Python 3",
   "language": "python",
   "name": "python3"
  },
  "language_info": {
   "codemirror_mode": {
    "name": "ipython",
    "version": 3
   },
   "file_extension": ".py",
   "mimetype": "text/x-python",
   "name": "python",
   "nbconvert_exporter": "python",
   "pygments_lexer": "ipython3",
   "version": "3.5.3"
  }
 },
 "nbformat": 4,
 "nbformat_minor": 2
}
