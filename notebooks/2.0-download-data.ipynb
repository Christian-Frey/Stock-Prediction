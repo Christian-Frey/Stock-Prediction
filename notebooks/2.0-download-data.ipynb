{
 "cells": [
  {
   "cell_type": "code",
   "execution_count": 1,
   "metadata": {},
   "outputs": [],
   "source": [
    "import os\n",
    "from dotenv import find_dotenv, load_dotenv\n",
    "from fredapi import Fred\n",
    "import pandas as pd\n",
    "import pandas_datareader as pdr\n",
    "import sqlite3\n",
    "import logging\n",
    "\n",
    "%matplotlib inline\n",
    "import matplotlib.pyplot as plt\n",
    "\n",
    "load_dotenv(find_dotenv())\n",
    "fred_api_key = os.environ.get('FRED_API_KEY')\n",
    "fred = Fred(api_key=fred_api_key)"
   ]
  },
  {
   "cell_type": "code",
   "execution_count": 2,
   "metadata": {},
   "outputs": [],
   "source": [
    "ticker = 'CYS'\n",
    "series_ids = ['SP500', 'DGS10', 'DGS5', 'USD3MTD156N', 'USD1WKD156N', 'FF']"
   ]
  },
  {
   "cell_type": "code",
   "execution_count": 3,
   "metadata": {},
   "outputs": [],
   "source": [
    "conn = sqlite3.connect(os.environ.get('DB_PATH'))\n"
   ]
  },
  {
   "cell_type": "code",
   "execution_count": 4,
   "metadata": {},
   "outputs": [
    {
     "name": "stderr",
     "output_type": "stream",
     "text": [
      "WARNING:root:UNIQUE constraint failed: data_series.id\n",
      "WARNING:root:UNIQUE constraint failed: data_series.id\n",
      "WARNING:root:UNIQUE constraint failed: data_series.id\n",
      "WARNING:root:UNIQUE constraint failed: data_series.id\n",
      "WARNING:root:UNIQUE constraint failed: data_series.id\n",
      "WARNING:root:UNIQUE constraint failed: data_series.id\n"
     ]
    }
   ],
   "source": [
    "for id in series_ids:\n",
    "    df = fred.get_series_info(id).to_frame().T\n",
    "    try:\n",
    "        df.to_sql('data_series', conn, if_exists='append', index=False)\n",
    "    except sqlite3.IntegrityError as e:\n",
    "        logging.warning(e)\n",
    "        continue"
   ]
  },
  {
   "cell_type": "code",
   "execution_count": 5,
   "metadata": {},
   "outputs": [
    {
     "name": "stdout",
     "output_type": "stream",
     "text": [
      "('FF', 'Effective Federal Funds Rate')\n",
      "('SP500', 'S&P 500')\n",
      "('DGS10', '10-Year Treasury Constant Maturity Rate')\n",
      "('DGS5', '5-Year Treasury Constant Maturity Rate')\n",
      "('USD3MTD156N', '3-Month London Interbank Offered Rate (LIBOR), based on U.S. Dollar')\n",
      "('USD1WKD156N', '1-Week London Interbank Offered Rate (LIBOR), based on U.S. Dollar')\n"
     ]
    }
   ],
   "source": [
    "for row in conn.execute('select id, title from data_series'):\n",
    "    print(row)"
   ]
  },
  {
   "cell_type": "code",
   "execution_count": null,
   "metadata": {},
   "outputs": [],
   "source": []
  }
 ],
 "metadata": {
  "kernelspec": {
   "display_name": "Python 3",
   "language": "python",
   "name": "python3"
  },
  "language_info": {
   "codemirror_mode": {
    "name": "ipython",
    "version": 3
   },
   "file_extension": ".py",
   "mimetype": "text/x-python",
   "name": "python",
   "nbconvert_exporter": "python",
   "pygments_lexer": "ipython3",
   "version": "3.5.3"
  }
 },
 "nbformat": 4,
 "nbformat_minor": 2
}
